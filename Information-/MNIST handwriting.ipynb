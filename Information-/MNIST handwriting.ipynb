{
 "cells": [
  {
   "cell_type": "code",
   "execution_count": 1,
   "metadata": {},
   "outputs": [
    {
     "name": "stderr",
     "output_type": "stream",
     "text": [
      "Using TensorFlow backend.\n"
     ]
    },
    {
     "name": "stdout",
     "output_type": "stream",
     "text": [
      "Train: X=(60000, 28, 28), y=(60000,)\n",
      "Test: X=(10000, 28, 28), y=(10000,)\n"
     ]
    },
    {
     "data": {
      "image/png": "[encoded data removed]",
      "text/plain": [
       "<Figure size 432x288 with 9 Axes>"
      ]
     },
     "metadata": {
      "needs_background": "light"
     },
     "output_type": "display_data"
    }
   ],
   "source": [
    "#EXAMPLE\n",
    "# classification of images of 0s to 9s which are 10 classes\n",
    "\n",
    "import tensorflow as tf                    # imports tensorflow\n",
    "from tensorflow import keras               # imports keras\n",
    "from keras.datasets import mnist           # import loading mnist dataset\n",
    "from matplotlib import pyplot              # importing pyplot\n",
    "from sklearn.model_selection import KFold  # import KFold\n",
    "from numpy import mean\n",
    "from numpy import std\n",
    "from keras.datasets import mnist\n",
    "from keras.utils import to_categorical \n",
    "from keras.models import Sequential\n",
    "from keras.layers import Conv2D\n",
    "from keras.layers import MaxPooling2D\n",
    "from keras.layers import Dense\n",
    "from keras.layers import Flatten\n",
    "from keras.optimizers import SGD\n",
    "\n",
    "# loading dataset\n",
    "(trainX,trainy),(testX, testy) = mnist.load_data()\n",
    "\n",
    "#prints loaded datasets of Train and Test\n",
    "print('Train: X=%s, y=%s' % (trainX.shape, trainy.shape))\n",
    "print('Test: X=%s, y=%s' %(testX.shape,testy.shape))\n",
    "\n",
    "# plots the first 9 images\n",
    "for i in range(9):\n",
    "    # define subplot\n",
    "    pyplot.subplot(330 + 1+ i)\n",
    "    # plot raw pixel data\n",
    "    pyplot.imshow(trainX[i],cmap=pyplot.get_cmap('gray'))\n",
    "#shows the figure\n",
    "pyplot.show()"
   ]
  },
  {
   "cell_type": "code",
   "execution_count": 2,
   "metadata": {},
   "outputs": [],
   "source": [
    "# LOAD DATA\n",
    "# loading images & reshape the data arrays to have single color channel. \n",
    "# we know the images are already pre-aligned as in they contains hand drawn digits, same square size & grayscales\n",
    "# we also know there are 10 classes 0 to 9 unique digits\n",
    "\n",
    "def load_dataset():\n",
    "    #loads data\n",
    "    (trainX,trainY),(testX,testY) = mnist.load_data()\n",
    "    \n",
    "    #reshapes to a single color channel\n",
    "    trainX = trainX.reshape((trainX.shape[0], 28, 28, 1))\n",
    "    testX = testX.reshape((testX.shape[0], 28, 28, 1))\n",
    "\n",
    "    #one hot encode target\n",
    "    # Transforms integer into a 10 element binary vector\n",
    "    # with 1 for index of the class and 0 values for all other classes.\n",
    "    trainY = to_categorical(trainY)               # or tf.keras.utils.to_categorical if haven't imported\n",
    "    testY = to_categorical(testY)\n",
    "        #print(trainY)\n",
    "        #print(testY)\n",
    "    return trainX,trainY,testX,testY"
   ]
  },
  {
   "cell_type": "code",
   "execution_count": 3,
   "metadata": {},
   "outputs": [],
   "source": [
    "# PREPARE PIXEL DATA \n",
    "# the images in this dataset are unsigned integers range  between black(0) and white(255).\n",
    "#normalize the pixel values of grayscale images --> rescale to range [0,1].\n",
    "# converting data type (unsig int)--> (floats).\n",
    "# then, divide the pixel values by the maximum value.\n",
    "# MUST CALL FUNCTION PRIOR TO MODELING\n",
    "\n",
    "def prep_pixels(train,test):\n",
    "    # int to float\n",
    "    train_norm = train.astype('float32')\n",
    "    test_norm = test.astype('float32')\n",
    "\n",
    "    #normalize\n",
    "    train_norm = train_norm/ 255.0\n",
    "    test_norm = test_norm/ 255.0\n",
    "    \n",
    "    return train_norm, test_norm"
   ]
  },
  {
   "cell_type": "code",
   "execution_count": 4,
   "metadata": {},
   "outputs": [],
   "source": [
    "#DEFINE MODEL\n",
    "# convolutional layer 3x3, filter 32 each time\n",
    "# maximum pooling layer 2x2\n",
    "# filter maps flatten which provides features to the classifier.\n",
    "# 10 classes 10 nodes  --> add dense layer 100 nodes\n",
    "# all layers use ReLU function\n",
    "# stochastic descent optimizer learning rate 0.01 & momentum of 0.9\n",
    "# categorical cross-entropy loss function\n",
    "\n",
    "def define_model():\n",
    "    model = Sequential()\n",
    "    model.add(Conv2D(32,(3,3),activation = 'relu', kernel_initializer = 'he_uniform', input_shape = (28,28,1)))\n",
    "    model.add(MaxPooling2D((2,2)))\n",
    "    model.add(Flatten())\n",
    "    model.add(Dense(100,activation ='relu', kernel_initializer = 'he_uniform'))\n",
    "    model.add(Dense(10,activation = 'softmax'))\n",
    "    opti = SGD(lr = 0.01, momentum = 0.9)\n",
    "    model.compile(optimizer = opti, loss = 'categorical_crossentropy', metrics = ['accuracy'] )\n",
    "    return model\n",
    "    "
   ]
  },
  {
   "cell_type": "code",
   "execution_count": 5,
   "metadata": {},
   "outputs": [],
   "source": [
    "#EVALUATION\n",
    "def eval_model(dataX,dataY, n_folds = 5):\n",
    "    scores,histories = list(), list()\n",
    "    #cross val prep\n",
    "    kfold = KFold(n_folds,shuffle = True, random_state = 1)\n",
    "    #enumerate splits\n",
    "    print(len(dataX))\n",
    "    print(dataX[0][0][0])\n",
    "    \n",
    "    for train_ix, test_ix in kfold.split(dataX):\n",
    "        #model defined\n",
    "        model = define_model()\n",
    "        #selection of rows for train and test\n",
    "        trainX, trainY, testX, testY = dataX[train_ix], dataY[train_ix], dataX[test_ix], dataY[test_ix]\n",
    "        # fit model\n",
    "        history = model.fit(trainX,trainY, epochs = 10, batch_size = 32, validation_data = (testX,testY), verbose = 0)\n",
    "        #eval model\n",
    "        _, acc = model.evaluate(testX, testY, verbose = 0)\n",
    "        print('> %.3f'% (acc * 100.0))\n",
    "        # stores scores\n",
    "        scores.append(acc)\n",
    "        histories.append(history)\n",
    "    return scores,histories"
   ]
  },
  {
   "cell_type": "code",
   "execution_count": 6,
   "metadata": {},
   "outputs": [],
   "source": [
    "#DIAGNOSTICS\n",
    "def summarize_diagnostics(histories):\n",
    "    for i in range(len(histories)):\n",
    "        # plot loss\n",
    "        pyplot.subplot(2, 1, 1)\n",
    "        pyplot.title('Cross Entropy Loss')\n",
    "        pyplot.plot(histories[i].history['loss'], color='blue', label='train')\n",
    "        pyplot.plot(histories[i].history['val_loss'], color='orange', label='test')\n",
    "        # plot accuracy\n",
    "        pyplot.subplot(2, 1, 2)\n",
    "        pyplot.title('Classification Accuracy')\n",
    "        pyplot.plot(histories[i].history['accuracy'], color='blue', label='train')\n",
    "        pyplot.plot(histories[i].history['val_accuracy'], color='orange', label='test')\n",
    "    pyplot.show()"
   ]
  },
  {
   "cell_type": "code",
   "execution_count": 7,
   "metadata": {},
   "outputs": [],
   "source": [
    "#SUMMARIZE MODEL \n",
    "# summarize model performance\n",
    "def summarize_performance(scores):\n",
    "    # print summary\n",
    "    print('Accuracy: mean=%.3f std=%.3f, n=%d' % (mean(scores)*100, std(scores)*100, len(scores)))\n",
    "    # box and whisker plots of results\n",
    "    pyplot.boxplot(scores)\n",
    "    pyplot.show()"
   ]
  },
  {
   "cell_type": "code",
   "execution_count": 8,
   "metadata": {},
   "outputs": [
    {
     "name": "stdout",
     "output_type": "stream",
     "text": [
      "60000\n",
      "[0.]\n",
      "> 98.625\n",
      "> 98.600\n",
      "> 98.658\n",
      "> 98.900\n",
      "> 98.742\n",
      "[0.9862499833106995, 0.9860000014305115, 0.9865833520889282, 0.9890000224113464, 0.987416684627533] [<keras.callbacks.callbacks.History object at 0x000001E0932FBF08>, <keras.callbacks.callbacks.History object at 0x000001E092F6BE88>, <keras.callbacks.callbacks.History object at 0x000001E0961D23C8>, <keras.callbacks.callbacks.History object at 0x000001E0990359C8>, <keras.callbacks.callbacks.History object at 0x000001E09645FE48>]\n"
     ]
    },
    {
     "name": "stderr",
     "output_type": "stream",
     "text": [
      "C:\\Users\\Ladelle\\AppData\\Roaming\\Python\\Python37\\site-packages\\ipykernel_launcher.py:5: MatplotlibDeprecationWarning: Adding an axes using the same arguments as a previous axes currently reuses the earlier instance.  In a future version, a new instance will always be created and returned.  Meanwhile, this warning can be suppressed, and the future behavior ensured, by passing a unique label to each axes instance.\n",
      "  \"\"\"\n",
      "C:\\Users\\Ladelle\\AppData\\Roaming\\Python\\Python37\\site-packages\\ipykernel_launcher.py:10: MatplotlibDeprecationWarning: Adding an axes using the same arguments as a previous axes currently reuses the earlier instance.  In a future version, a new instance will always be created and returned.  Meanwhile, this warning can be suppressed, and the future behavior ensured, by passing a unique label to each axes instance.\n",
      "  # Remove the CWD from sys.path while we load stuff.\n",
      "C:\\Users\\Ladelle\\AppData\\Roaming\\Python\\Python37\\site-packages\\ipykernel_launcher.py:5: MatplotlibDeprecationWarning: Adding an axes using the same arguments as a previous axes currently reuses the earlier instance.  In a future version, a new instance will always be created and returned.  Meanwhile, this warning can be suppressed, and the future behavior ensured, by passing a unique label to each axes instance.\n",
      "  \"\"\"\n",
      "C:\\Users\\Ladelle\\AppData\\Roaming\\Python\\Python37\\site-packages\\ipykernel_launcher.py:10: MatplotlibDeprecationWarning: Adding an axes using the same arguments as a previous axes currently reuses the earlier instance.  In a future version, a new instance will always be created and returned.  Meanwhile, this warning can be suppressed, and the future behavior ensured, by passing a unique label to each axes instance.\n",
      "  # Remove the CWD from sys.path while we load stuff.\n",
      "C:\\Users\\Ladelle\\AppData\\Roaming\\Python\\Python37\\site-packages\\ipykernel_launcher.py:5: MatplotlibDeprecationWarning: Adding an axes using the same arguments as a previous axes currently reuses the earlier instance.  In a future version, a new instance will always be created and returned.  Meanwhile, this warning can be suppressed, and the future behavior ensured, by passing a unique label to each axes instance.\n",
      "  \"\"\"\n",
      "C:\\Users\\Ladelle\\AppData\\Roaming\\Python\\Python37\\site-packages\\ipykernel_launcher.py:10: MatplotlibDeprecationWarning: Adding an axes using the same arguments as a previous axes currently reuses the earlier instance.  In a future version, a new instance will always be created and returned.  Meanwhile, this warning can be suppressed, and the future behavior ensured, by passing a unique label to each axes instance.\n",
      "  # Remove the CWD from sys.path while we load stuff.\n",
      "C:\\Users\\Ladelle\\AppData\\Roaming\\Python\\Python37\\site-packages\\ipykernel_launcher.py:5: MatplotlibDeprecationWarning: Adding an axes using the same arguments as a previous axes currently reuses the earlier instance.  In a future version, a new instance will always be created and returned.  Meanwhile, this warning can be suppressed, and the future behavior ensured, by passing a unique label to each axes instance.\n",
      "  \"\"\"\n",
      "C:\\Users\\Ladelle\\AppData\\Roaming\\Python\\Python37\\site-packages\\ipykernel_launcher.py:10: MatplotlibDeprecationWarning: Adding an axes using the same arguments as a previous axes currently reuses the earlier instance.  In a future version, a new instance will always be created and returned.  Meanwhile, this warning can be suppressed, and the future behavior ensured, by passing a unique label to each axes instance.\n",
      "  # Remove the CWD from sys.path while we load stuff.\n"
     ]
    },
    {
     "data": {
      "image/png": "[encoded data removed]",
      "text/plain": [
       "<Figure size 432x288 with 2 Axes>"
      ]
     },
     "metadata": {
      "needs_background": "light"
     },
     "output_type": "display_data"
    },
    {
     "name": "stdout",
     "output_type": "stream",
     "text": [
      "Accuracy: mean=98.705 std=0.109, n=5\n"
     ]
    },
    {
     "data": {
      "image/png": "[encoded data removed]",
      "text/plain": [
       "<Figure size 432x288 with 1 Axes>"
      ]
     },
     "metadata": {
      "needs_background": "light"
     },
     "output_type": "display_data"
    }
   ],
   "source": [
    "# RUN THE TESTS\n",
    "# run the test harness for evaluating a model\n",
    "def run_test_harness():\n",
    "    # load dataset\n",
    "    trainX, trainY, testX, testY = load_dataset()\n",
    "    # prepare pixel data\n",
    "    trainX, testX = prep_pixels(trainX, testX)\n",
    "    # evaluate model\n",
    "    scores, histories = eval_model(trainX, trainY)\n",
    "    #checking\n",
    "    print(scores,histories)\n",
    "    # learning curves\n",
    "    summarize_diagnostics(histories)\n",
    "    # summarize estimated performance\n",
    "    summarize_performance(scores)\n",
    "run_test_harness()"
   ]
  },
  {
   "cell_type": "code",
   "execution_count": null,
   "metadata": {},
   "outputs": [],
   "source": []
  },
  {
   "cell_type": "code",
   "execution_count": null,
   "metadata": {},
   "outputs": [],
   "source": []
  }
 ],
 "metadata": {
  "kernelspec": {
   "display_name": "Python 3",
   "language": "python",
   "name": "python3"
  },
  "language_info": {
   "codemirror_mode": {
    "name": "ipython",
    "version": 3
   },
   "file_extension": ".py",
   "mimetype": "text/x-python",
   "name": "python",
   "nbconvert_exporter": "python",
   "pygments_lexer": "ipython3",
   "version": "3.7.7"
  }
 },
 "nbformat": 4,
 "nbformat_minor": 4
}
